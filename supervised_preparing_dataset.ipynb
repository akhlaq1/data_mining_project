{
 "cells": [
  {
   "cell_type": "code",
   "execution_count": 130,
   "metadata": {},
   "outputs": [],
   "source": [
    "import pandas as pd\n",
    "import numpy as np"
   ]
  },
  {
   "cell_type": "code",
   "execution_count": 104,
   "metadata": {},
   "outputs": [],
   "source": [
    "df = pd.read_csv(\"VBOX _supervised.csv\")"
   ]
  },
  {
   "cell_type": "code",
   "execution_count": 105,
   "metadata": {},
   "outputs": [],
   "source": [
    "df_y = pd.read_csv(\"./abnormal_events.csv\")"
   ]
  },
  {
   "cell_type": "code",
   "execution_count": 106,
   "metadata": {},
   "outputs": [
    {
     "data": {
      "text/html": [
       "<div>\n",
       "<style scoped>\n",
       "    .dataframe tbody tr th:only-of-type {\n",
       "        vertical-align: middle;\n",
       "    }\n",
       "\n",
       "    .dataframe tbody tr th {\n",
       "        vertical-align: top;\n",
       "    }\n",
       "\n",
       "    .dataframe thead th {\n",
       "        text-align: right;\n",
       "    }\n",
       "</style>\n",
       "<table border=\"1\" class=\"dataframe\">\n",
       "  <thead>\n",
       "    <tr style=\"text-align: right;\">\n",
       "      <th></th>\n",
       "      <th>start_time</th>\n",
       "      <th>duration</th>\n",
       "    </tr>\n",
       "  </thead>\n",
       "  <tbody>\n",
       "    <tr>\n",
       "      <th>0</th>\n",
       "      <td>72641.9</td>\n",
       "      <td>1.5</td>\n",
       "    </tr>\n",
       "    <tr>\n",
       "      <th>1</th>\n",
       "      <td>72654.4</td>\n",
       "      <td>0.4</td>\n",
       "    </tr>\n",
       "    <tr>\n",
       "      <th>2</th>\n",
       "      <td>72806.3</td>\n",
       "      <td>7.5</td>\n",
       "    </tr>\n",
       "    <tr>\n",
       "      <th>3</th>\n",
       "      <td>73833.1</td>\n",
       "      <td>2.8</td>\n",
       "    </tr>\n",
       "    <tr>\n",
       "      <th>4</th>\n",
       "      <td>73913.5</td>\n",
       "      <td>4.3</td>\n",
       "    </tr>\n",
       "  </tbody>\n",
       "</table>\n",
       "</div>"
      ],
      "text/plain": [
       "   start_time  duration\n",
       "0     72641.9       1.5\n",
       "1     72654.4       0.4\n",
       "2     72806.3       7.5\n",
       "3     73833.1       2.8\n",
       "4     73913.5       4.3"
      ]
     },
     "execution_count": 106,
     "metadata": {},
     "output_type": "execute_result"
    }
   ],
   "source": [
    "df_y.head()"
   ]
  },
  {
   "cell_type": "code",
   "execution_count": 16,
   "metadata": {},
   "outputs": [
    {
     "data": {
      "text/html": [
       "<div>\n",
       "<style scoped>\n",
       "    .dataframe tbody tr th:only-of-type {\n",
       "        vertical-align: middle;\n",
       "    }\n",
       "\n",
       "    .dataframe tbody tr th {\n",
       "        vertical-align: top;\n",
       "    }\n",
       "\n",
       "    .dataframe thead th {\n",
       "        text-align: right;\n",
       "    }\n",
       "</style>\n",
       "<table border=\"1\" class=\"dataframe\">\n",
       "  <thead>\n",
       "    <tr style=\"text-align: right;\">\n",
       "      <th></th>\n",
       "      <th>y</th>\n",
       "      <th>time</th>\n",
       "      <th>sats</th>\n",
       "      <th>long</th>\n",
       "      <th>lat</th>\n",
       "      <th>velocity</th>\n",
       "      <th>heading</th>\n",
       "      <th>height</th>\n",
       "      <th>vert-vel</th>\n",
       "      <th>GPS-Longacc</th>\n",
       "      <th>turn-radius</th>\n",
       "      <th>Centre-Line-Deviation</th>\n",
       "      <th>AbsHead</th>\n",
       "      <th>Longacc</th>\n",
       "      <th>Latacc</th>\n",
       "      <th>rel-height</th>\n",
       "    </tr>\n",
       "  </thead>\n",
       "  <tbody>\n",
       "    <tr>\n",
       "      <th>0</th>\n",
       "      <td>NaN</td>\n",
       "      <td>71304.4</td>\n",
       "      <td>6</td>\n",
       "      <td>118.818824</td>\n",
       "      <td>31.892812</td>\n",
       "      <td>0.0</td>\n",
       "      <td>0.0</td>\n",
       "      <td>13.58</td>\n",
       "      <td>0.0</td>\n",
       "      <td>0.0</td>\n",
       "      <td>0.0</td>\n",
       "      <td>0.0</td>\n",
       "      <td>0.0</td>\n",
       "      <td>0.0</td>\n",
       "      <td>0.0</td>\n",
       "      <td>0.0</td>\n",
       "    </tr>\n",
       "    <tr>\n",
       "      <th>1</th>\n",
       "      <td>NaN</td>\n",
       "      <td>71451.5</td>\n",
       "      <td>8</td>\n",
       "      <td>118.818825</td>\n",
       "      <td>31.892807</td>\n",
       "      <td>0.0</td>\n",
       "      <td>0.0</td>\n",
       "      <td>11.42</td>\n",
       "      <td>0.0</td>\n",
       "      <td>0.0</td>\n",
       "      <td>0.0</td>\n",
       "      <td>0.0</td>\n",
       "      <td>0.0</td>\n",
       "      <td>0.0</td>\n",
       "      <td>0.0</td>\n",
       "      <td>0.0</td>\n",
       "    </tr>\n",
       "    <tr>\n",
       "      <th>2</th>\n",
       "      <td>NaN</td>\n",
       "      <td>71451.6</td>\n",
       "      <td>8</td>\n",
       "      <td>118.818825</td>\n",
       "      <td>31.892807</td>\n",
       "      <td>0.0</td>\n",
       "      <td>0.0</td>\n",
       "      <td>11.43</td>\n",
       "      <td>0.0</td>\n",
       "      <td>0.0</td>\n",
       "      <td>0.0</td>\n",
       "      <td>0.0</td>\n",
       "      <td>0.0</td>\n",
       "      <td>0.0</td>\n",
       "      <td>0.0</td>\n",
       "      <td>0.0</td>\n",
       "    </tr>\n",
       "    <tr>\n",
       "      <th>3</th>\n",
       "      <td>NaN</td>\n",
       "      <td>71451.7</td>\n",
       "      <td>8</td>\n",
       "      <td>118.818825</td>\n",
       "      <td>31.892807</td>\n",
       "      <td>0.0</td>\n",
       "      <td>0.0</td>\n",
       "      <td>11.43</td>\n",
       "      <td>0.0</td>\n",
       "      <td>0.0</td>\n",
       "      <td>0.0</td>\n",
       "      <td>0.0</td>\n",
       "      <td>0.0</td>\n",
       "      <td>0.0</td>\n",
       "      <td>0.0</td>\n",
       "      <td>0.0</td>\n",
       "    </tr>\n",
       "    <tr>\n",
       "      <th>4</th>\n",
       "      <td>NaN</td>\n",
       "      <td>71451.8</td>\n",
       "      <td>8</td>\n",
       "      <td>118.818825</td>\n",
       "      <td>31.892807</td>\n",
       "      <td>0.0</td>\n",
       "      <td>0.0</td>\n",
       "      <td>11.43</td>\n",
       "      <td>0.0</td>\n",
       "      <td>0.0</td>\n",
       "      <td>0.0</td>\n",
       "      <td>0.0</td>\n",
       "      <td>0.0</td>\n",
       "      <td>0.0</td>\n",
       "      <td>0.0</td>\n",
       "      <td>0.0</td>\n",
       "    </tr>\n",
       "  </tbody>\n",
       "</table>\n",
       "</div>"
      ],
      "text/plain": [
       "    y     time  sats        long        lat  velocity  heading  height  \\\n",
       "0 NaN  71304.4     6  118.818824  31.892812       0.0      0.0   13.58   \n",
       "1 NaN  71451.5     8  118.818825  31.892807       0.0      0.0   11.42   \n",
       "2 NaN  71451.6     8  118.818825  31.892807       0.0      0.0   11.43   \n",
       "3 NaN  71451.7     8  118.818825  31.892807       0.0      0.0   11.43   \n",
       "4 NaN  71451.8     8  118.818825  31.892807       0.0      0.0   11.43   \n",
       "\n",
       "   vert-vel  GPS-Longacc  turn-radius  Centre-Line-Deviation  AbsHead  \\\n",
       "0       0.0          0.0          0.0                    0.0      0.0   \n",
       "1       0.0          0.0          0.0                    0.0      0.0   \n",
       "2       0.0          0.0          0.0                    0.0      0.0   \n",
       "3       0.0          0.0          0.0                    0.0      0.0   \n",
       "4       0.0          0.0          0.0                    0.0      0.0   \n",
       "\n",
       "   Longacc  Latacc  rel-height  \n",
       "0      0.0     0.0         0.0  \n",
       "1      0.0     0.0         0.0  \n",
       "2      0.0     0.0         0.0  \n",
       "3      0.0     0.0         0.0  \n",
       "4      0.0     0.0         0.0  "
      ]
     },
     "execution_count": 16,
     "metadata": {},
     "output_type": "execute_result"
    }
   ],
   "source": [
    "df.head()"
   ]
  },
  {
   "cell_type": "code",
   "execution_count": 22,
   "metadata": {},
   "outputs": [
    {
     "data": {
      "text/html": [
       "<div>\n",
       "<style scoped>\n",
       "    .dataframe tbody tr th:only-of-type {\n",
       "        vertical-align: middle;\n",
       "    }\n",
       "\n",
       "    .dataframe tbody tr th {\n",
       "        vertical-align: top;\n",
       "    }\n",
       "\n",
       "    .dataframe thead th {\n",
       "        text-align: right;\n",
       "    }\n",
       "</style>\n",
       "<table border=\"1\" class=\"dataframe\">\n",
       "  <thead>\n",
       "    <tr style=\"text-align: right;\">\n",
       "      <th></th>\n",
       "      <th>y</th>\n",
       "      <th>time</th>\n",
       "      <th>sats</th>\n",
       "      <th>long</th>\n",
       "      <th>lat</th>\n",
       "      <th>velocity</th>\n",
       "      <th>heading</th>\n",
       "      <th>height</th>\n",
       "      <th>vert-vel</th>\n",
       "      <th>GPS-Longacc</th>\n",
       "      <th>turn-radius</th>\n",
       "      <th>Centre-Line-Deviation</th>\n",
       "      <th>AbsHead</th>\n",
       "      <th>Longacc</th>\n",
       "      <th>Latacc</th>\n",
       "      <th>rel-height</th>\n",
       "    </tr>\n",
       "  </thead>\n",
       "  <tbody>\n",
       "    <tr>\n",
       "      <th>7120</th>\n",
       "      <td>NaN</td>\n",
       "      <td>72643.4</td>\n",
       "      <td>6</td>\n",
       "      <td>118.818944</td>\n",
       "      <td>31.892799</td>\n",
       "      <td>14.103</td>\n",
       "      <td>356.57</td>\n",
       "      <td>9.25</td>\n",
       "      <td>0.072</td>\n",
       "      <td>0.74</td>\n",
       "      <td>9.11</td>\n",
       "      <td>-11.6</td>\n",
       "      <td>-723.43</td>\n",
       "      <td>0.74</td>\n",
       "      <td>0.31</td>\n",
       "      <td>-0.198</td>\n",
       "    </tr>\n",
       "  </tbody>\n",
       "</table>\n",
       "</div>"
      ],
      "text/plain": [
       "       y     time  sats        long        lat  velocity  heading  height  \\\n",
       "7120 NaN  72643.4     6  118.818944  31.892799    14.103   356.57    9.25   \n",
       "\n",
       "      vert-vel  GPS-Longacc  turn-radius  Centre-Line-Deviation  AbsHead  \\\n",
       "7120     0.072         0.74         9.11                  -11.6  -723.43   \n",
       "\n",
       "      Longacc  Latacc  rel-height  \n",
       "7120     0.74    0.31      -0.198  "
      ]
     },
     "execution_count": 22,
     "metadata": {},
     "output_type": "execute_result"
    }
   ],
   "source": [
    "df.loc[df['time'] == 72643.4]"
   ]
  },
  {
   "cell_type": "code",
   "execution_count": null,
   "metadata": {},
   "outputs": [],
   "source": []
  },
  {
   "cell_type": "code",
   "execution_count": 107,
   "metadata": {},
   "outputs": [],
   "source": [
    "for index, row in df_y.iterrows():\n",
    "    start = row['start_time']\n",
    "    end = start + (row['duration'])\n",
    "    for i in np.arange(start,end+0.05,0.1):\n",
    "        index_val = df.index[df['time']==np.around(i,1)].tolist()[0] \n",
    "        df.at[[index_val],['y']] = int(1)"
   ]
  },
  {
   "cell_type": "code",
   "execution_count": 108,
   "metadata": {},
   "outputs": [],
   "source": [
    "df.to_csv(\"VBOX _supervised1.csv\",index=False)"
   ]
  },
  {
   "cell_type": "code",
   "execution_count": 109,
   "metadata": {},
   "outputs": [],
   "source": [
    "df_with1 = pd.read_csv(\"./VBOX _supervised1.csv\")"
   ]
  },
  {
   "cell_type": "code",
   "execution_count": 110,
   "metadata": {},
   "outputs": [],
   "source": [
    "df_with1[\"y\"] = df[\"y\"].fillna(int(0))"
   ]
  },
  {
   "cell_type": "code",
   "execution_count": 111,
   "metadata": {},
   "outputs": [],
   "source": [
    "df_with1.to_csv(\"VBOX _supervised1.csv\",index=False)"
   ]
  },
  {
   "cell_type": "code",
   "execution_count": 112,
   "metadata": {},
   "outputs": [
    {
     "data": {
      "text/html": [
       "<div>\n",
       "<style scoped>\n",
       "    .dataframe tbody tr th:only-of-type {\n",
       "        vertical-align: middle;\n",
       "    }\n",
       "\n",
       "    .dataframe tbody tr th {\n",
       "        vertical-align: top;\n",
       "    }\n",
       "\n",
       "    .dataframe thead th {\n",
       "        text-align: right;\n",
       "    }\n",
       "</style>\n",
       "<table border=\"1\" class=\"dataframe\">\n",
       "  <thead>\n",
       "    <tr style=\"text-align: right;\">\n",
       "      <th></th>\n",
       "      <th>y</th>\n",
       "      <th>time</th>\n",
       "      <th>sats</th>\n",
       "      <th>long</th>\n",
       "      <th>lat</th>\n",
       "      <th>velocity</th>\n",
       "      <th>heading</th>\n",
       "      <th>height</th>\n",
       "      <th>vert-vel</th>\n",
       "      <th>GPS-Longacc</th>\n",
       "      <th>turn-radius</th>\n",
       "      <th>Centre-Line-Deviation</th>\n",
       "      <th>AbsHead</th>\n",
       "      <th>Longacc</th>\n",
       "      <th>Latacc</th>\n",
       "      <th>rel-height</th>\n",
       "    </tr>\n",
       "  </thead>\n",
       "  <tbody>\n",
       "    <tr>\n",
       "      <th>0</th>\n",
       "      <td>0.0</td>\n",
       "      <td>71304.4</td>\n",
       "      <td>6</td>\n",
       "      <td>118.818824</td>\n",
       "      <td>31.892812</td>\n",
       "      <td>0.0</td>\n",
       "      <td>0.0</td>\n",
       "      <td>13.58</td>\n",
       "      <td>0.0</td>\n",
       "      <td>0.0</td>\n",
       "      <td>0.0</td>\n",
       "      <td>0.0</td>\n",
       "      <td>0.0</td>\n",
       "      <td>0.0</td>\n",
       "      <td>0.0</td>\n",
       "      <td>0.0</td>\n",
       "    </tr>\n",
       "    <tr>\n",
       "      <th>1</th>\n",
       "      <td>0.0</td>\n",
       "      <td>71451.5</td>\n",
       "      <td>8</td>\n",
       "      <td>118.818825</td>\n",
       "      <td>31.892807</td>\n",
       "      <td>0.0</td>\n",
       "      <td>0.0</td>\n",
       "      <td>11.42</td>\n",
       "      <td>0.0</td>\n",
       "      <td>0.0</td>\n",
       "      <td>0.0</td>\n",
       "      <td>0.0</td>\n",
       "      <td>0.0</td>\n",
       "      <td>0.0</td>\n",
       "      <td>0.0</td>\n",
       "      <td>0.0</td>\n",
       "    </tr>\n",
       "    <tr>\n",
       "      <th>2</th>\n",
       "      <td>0.0</td>\n",
       "      <td>71451.6</td>\n",
       "      <td>8</td>\n",
       "      <td>118.818825</td>\n",
       "      <td>31.892807</td>\n",
       "      <td>0.0</td>\n",
       "      <td>0.0</td>\n",
       "      <td>11.43</td>\n",
       "      <td>0.0</td>\n",
       "      <td>0.0</td>\n",
       "      <td>0.0</td>\n",
       "      <td>0.0</td>\n",
       "      <td>0.0</td>\n",
       "      <td>0.0</td>\n",
       "      <td>0.0</td>\n",
       "      <td>0.0</td>\n",
       "    </tr>\n",
       "    <tr>\n",
       "      <th>3</th>\n",
       "      <td>0.0</td>\n",
       "      <td>71451.7</td>\n",
       "      <td>8</td>\n",
       "      <td>118.818825</td>\n",
       "      <td>31.892807</td>\n",
       "      <td>0.0</td>\n",
       "      <td>0.0</td>\n",
       "      <td>11.43</td>\n",
       "      <td>0.0</td>\n",
       "      <td>0.0</td>\n",
       "      <td>0.0</td>\n",
       "      <td>0.0</td>\n",
       "      <td>0.0</td>\n",
       "      <td>0.0</td>\n",
       "      <td>0.0</td>\n",
       "      <td>0.0</td>\n",
       "    </tr>\n",
       "    <tr>\n",
       "      <th>4</th>\n",
       "      <td>0.0</td>\n",
       "      <td>71451.8</td>\n",
       "      <td>8</td>\n",
       "      <td>118.818825</td>\n",
       "      <td>31.892807</td>\n",
       "      <td>0.0</td>\n",
       "      <td>0.0</td>\n",
       "      <td>11.43</td>\n",
       "      <td>0.0</td>\n",
       "      <td>0.0</td>\n",
       "      <td>0.0</td>\n",
       "      <td>0.0</td>\n",
       "      <td>0.0</td>\n",
       "      <td>0.0</td>\n",
       "      <td>0.0</td>\n",
       "      <td>0.0</td>\n",
       "    </tr>\n",
       "  </tbody>\n",
       "</table>\n",
       "</div>"
      ],
      "text/plain": [
       "     y     time  sats        long        lat  velocity  heading  height  \\\n",
       "0  0.0  71304.4     6  118.818824  31.892812       0.0      0.0   13.58   \n",
       "1  0.0  71451.5     8  118.818825  31.892807       0.0      0.0   11.42   \n",
       "2  0.0  71451.6     8  118.818825  31.892807       0.0      0.0   11.43   \n",
       "3  0.0  71451.7     8  118.818825  31.892807       0.0      0.0   11.43   \n",
       "4  0.0  71451.8     8  118.818825  31.892807       0.0      0.0   11.43   \n",
       "\n",
       "   vert-vel  GPS-Longacc  turn-radius  Centre-Line-Deviation  AbsHead  \\\n",
       "0       0.0          0.0          0.0                    0.0      0.0   \n",
       "1       0.0          0.0          0.0                    0.0      0.0   \n",
       "2       0.0          0.0          0.0                    0.0      0.0   \n",
       "3       0.0          0.0          0.0                    0.0      0.0   \n",
       "4       0.0          0.0          0.0                    0.0      0.0   \n",
       "\n",
       "   Longacc  Latacc  rel-height  \n",
       "0      0.0     0.0         0.0  \n",
       "1      0.0     0.0         0.0  \n",
       "2      0.0     0.0         0.0  \n",
       "3      0.0     0.0         0.0  \n",
       "4      0.0     0.0         0.0  "
      ]
     },
     "execution_count": 112,
     "metadata": {},
     "output_type": "execute_result"
    }
   ],
   "source": [
    "df = pd.read_csv(\"VBOX _supervised1.csv\")\n",
    "df.head()"
   ]
  },
  {
   "cell_type": "markdown",
   "metadata": {},
   "source": [
    "# Reducing rows"
   ]
  },
  {
   "cell_type": "markdown",
   "metadata": {},
   "source": [
    "## dropping rows with abnormal behaviour "
   ]
  },
  {
   "cell_type": "code",
   "execution_count": 122,
   "metadata": {},
   "outputs": [],
   "source": [
    "df = pd.read_csv(\"VBOX _supervised1.csv\")\n",
    "index_val_y1 = df[df['y'] == 1 ].index\n"
   ]
  },
  {
   "cell_type": "code",
   "execution_count": 116,
   "metadata": {},
   "outputs": [],
   "source": [
    "df.drop(index_val_y1,inplace=True)"
   ]
  },
  {
   "cell_type": "code",
   "execution_count": 117,
   "metadata": {},
   "outputs": [
    {
     "data": {
      "text/plain": [
       "Int64Index([], dtype='int64')"
      ]
     },
     "execution_count": 117,
     "metadata": {},
     "output_type": "execute_result"
    }
   ],
   "source": []
  },
  {
   "cell_type": "code",
   "execution_count": 118,
   "metadata": {},
   "outputs": [],
   "source": [
    "df1 = df.groupby(np.arange(len(df))//10).mean()"
   ]
  },
  {
   "cell_type": "code",
   "execution_count": 121,
   "metadata": {},
   "outputs": [
    {
     "name": "stdout",
     "output_type": "stream",
     "text": [
      "<class 'pandas.core.frame.DataFrame'>\n",
      "Int64Index: 4926 entries, 0 to 4925\n",
      "Data columns (total 16 columns):\n",
      " #   Column                 Non-Null Count  Dtype  \n",
      "---  ------                 --------------  -----  \n",
      " 0   y                      4926 non-null   float64\n",
      " 1   time                   4926 non-null   float64\n",
      " 2   sats                   4926 non-null   float64\n",
      " 3   long                   4926 non-null   float64\n",
      " 4   lat                    4926 non-null   float64\n",
      " 5   velocity               4926 non-null   float64\n",
      " 6   heading                4926 non-null   float64\n",
      " 7   height                 4926 non-null   float64\n",
      " 8   vert-vel               4926 non-null   float64\n",
      " 9   GPS-Longacc            4926 non-null   float64\n",
      " 10  turn-radius            4926 non-null   float64\n",
      " 11  Centre-Line-Deviation  4926 non-null   float64\n",
      " 12  AbsHead                4926 non-null   float64\n",
      " 13  Longacc                4926 non-null   float64\n",
      " 14  Latacc                 4926 non-null   float64\n",
      " 15  rel-height             4926 non-null   float64\n",
      "dtypes: float64(16)\n",
      "memory usage: 814.2 KB\n"
     ]
    }
   ],
   "source": [
    "df1.info()"
   ]
  },
  {
   "cell_type": "code",
   "execution_count": 123,
   "metadata": {},
   "outputs": [],
   "source": [
    "df_only1_row = df[df['y'] == 1]"
   ]
  },
  {
   "cell_type": "code",
   "execution_count": 125,
   "metadata": {},
   "outputs": [
    {
     "name": "stdout",
     "output_type": "stream",
     "text": [
      "<class 'pandas.core.frame.DataFrame'>\n",
      "Int64Index: 2295 entries, 7105 to 50455\n",
      "Data columns (total 16 columns):\n",
      " #   Column                 Non-Null Count  Dtype  \n",
      "---  ------                 --------------  -----  \n",
      " 0   y                      2295 non-null   float64\n",
      " 1   time                   2295 non-null   float64\n",
      " 2   sats                   2295 non-null   int64  \n",
      " 3   long                   2295 non-null   float64\n",
      " 4   lat                    2295 non-null   float64\n",
      " 5   velocity               2295 non-null   float64\n",
      " 6   heading                2295 non-null   float64\n",
      " 7   height                 2295 non-null   float64\n",
      " 8   vert-vel               2295 non-null   float64\n",
      " 9   GPS-Longacc            2295 non-null   float64\n",
      " 10  turn-radius            2295 non-null   float64\n",
      " 11  Centre-Line-Deviation  2295 non-null   float64\n",
      " 12  AbsHead                2295 non-null   float64\n",
      " 13  Longacc                2295 non-null   float64\n",
      " 14  Latacc                 2295 non-null   float64\n",
      " 15  rel-height             2295 non-null   float64\n",
      "dtypes: float64(15), int64(1)\n",
      "memory usage: 384.8 KB\n"
     ]
    }
   ],
   "source": [
    "df_only1_row.info()"
   ]
  },
  {
   "cell_type": "markdown",
   "metadata": {},
   "source": [
    "# adding the dropped rows in reduced DF"
   ]
  },
  {
   "cell_type": "code",
   "execution_count": 127,
   "metadata": {},
   "outputs": [],
   "source": [
    "final_df = pd.concat([df1,df_only1_row])"
   ]
  },
  {
   "cell_type": "code",
   "execution_count": 128,
   "metadata": {},
   "outputs": [
    {
     "name": "stdout",
     "output_type": "stream",
     "text": [
      "<class 'pandas.core.frame.DataFrame'>\n",
      "Int64Index: 7221 entries, 0 to 50455\n",
      "Data columns (total 16 columns):\n",
      " #   Column                 Non-Null Count  Dtype  \n",
      "---  ------                 --------------  -----  \n",
      " 0   y                      7221 non-null   float64\n",
      " 1   time                   7221 non-null   float64\n",
      " 2   sats                   7221 non-null   float64\n",
      " 3   long                   7221 non-null   float64\n",
      " 4   lat                    7221 non-null   float64\n",
      " 5   velocity               7221 non-null   float64\n",
      " 6   heading                7221 non-null   float64\n",
      " 7   height                 7221 non-null   float64\n",
      " 8   vert-vel               7221 non-null   float64\n",
      " 9   GPS-Longacc            7221 non-null   float64\n",
      " 10  turn-radius            7221 non-null   float64\n",
      " 11  Centre-Line-Deviation  7221 non-null   float64\n",
      " 12  AbsHead                7221 non-null   float64\n",
      " 13  Longacc                7221 non-null   float64\n",
      " 14  Latacc                 7221 non-null   float64\n",
      " 15  rel-height             7221 non-null   float64\n",
      "dtypes: float64(16)\n",
      "memory usage: 1.2 MB\n"
     ]
    }
   ],
   "source": [
    "final_df.info()"
   ]
  },
  {
   "cell_type": "code",
   "execution_count": 129,
   "metadata": {},
   "outputs": [],
   "source": [
    "final_df.to_csv(\"VBOX _supervised_reduced_and_labels.csv\",index=False)"
   ]
  },
  {
   "cell_type": "code",
   "execution_count": 150,
   "metadata": {},
   "outputs": [],
   "source": [
    "final_df = pd.read_csv(\"VBOX _supervised_reduced_and_labels.csv\")"
   ]
  },
  {
   "cell_type": "markdown",
   "metadata": {},
   "source": [
    "# Scaling_data"
   ]
  },
  {
   "cell_type": "code",
   "execution_count": 151,
   "metadata": {},
   "outputs": [],
   "source": [
    "from sklearn import preprocessing\n",
    "mm_scaler = preprocessing.MinMaxScaler()\n",
    "scaled_array = mm_scaler.fit_transform(final_df)\n",
    "scaled_df = pd.DataFrame(scaled_array,columns=df.columns)"
   ]
  },
  {
   "cell_type": "code",
   "execution_count": 156,
   "metadata": {},
   "outputs": [
    {
     "data": {
      "text/plain": [
       "0.0    4926\n",
       "1.0    2295\n",
       "Name: y, dtype: int64"
      ]
     },
     "execution_count": 156,
     "metadata": {},
     "output_type": "execute_result"
    }
   ],
   "source": [
    "scaled_df['y'].value_counts()"
   ]
  },
  {
   "cell_type": "code",
   "execution_count": null,
   "metadata": {},
   "outputs": [],
   "source": []
  },
  {
   "cell_type": "code",
   "execution_count": 157,
   "metadata": {},
   "outputs": [],
   "source": [
    "scaled_df.to_csv(\"VBOX _supervised_scaled_reduced_and_labels.csv\",index=False)"
   ]
  },
  {
   "cell_type": "code",
   "execution_count": 134,
   "metadata": {},
   "outputs": [
    {
     "data": {
      "text/plain": [
       "Index(['y', 'time', 'sats', 'long', 'lat', 'velocity', 'heading', 'height',\n",
       "       'vert-vel', 'GPS-Longacc', 'turn-radius', 'Centre-Line-Deviation',\n",
       "       'AbsHead', 'Longacc', 'Latacc', 'rel-height'],\n",
       "      dtype='object')"
      ]
     },
     "execution_count": 134,
     "metadata": {},
     "output_type": "execute_result"
    }
   ],
   "source": [
    "df.columns"
   ]
  },
  {
   "cell_type": "code",
   "execution_count": 141,
   "metadata": {},
   "outputs": [
    {
     "data": {
      "text/html": [
       "<div>\n",
       "<style scoped>\n",
       "    .dataframe tbody tr th:only-of-type {\n",
       "        vertical-align: middle;\n",
       "    }\n",
       "\n",
       "    .dataframe tbody tr th {\n",
       "        vertical-align: top;\n",
       "    }\n",
       "\n",
       "    .dataframe thead th {\n",
       "        text-align: right;\n",
       "    }\n",
       "</style>\n",
       "<table border=\"1\" class=\"dataframe\">\n",
       "  <thead>\n",
       "    <tr style=\"text-align: right;\">\n",
       "      <th></th>\n",
       "      <th>time</th>\n",
       "      <th>sats</th>\n",
       "      <th>long</th>\n",
       "      <th>lat</th>\n",
       "      <th>velocity</th>\n",
       "      <th>heading</th>\n",
       "      <th>height</th>\n",
       "      <th>vert-vel</th>\n",
       "      <th>GPS-Longacc</th>\n",
       "      <th>turn-radius</th>\n",
       "      <th>Centre-Line-Deviation</th>\n",
       "      <th>AbsHead</th>\n",
       "      <th>Longacc</th>\n",
       "      <th>Latacc</th>\n",
       "      <th>rel-height</th>\n",
       "    </tr>\n",
       "  </thead>\n",
       "  <tbody>\n",
       "    <tr>\n",
       "      <th>0</th>\n",
       "      <td>0.000000</td>\n",
       "      <td>0.6</td>\n",
       "      <td>0.956581</td>\n",
       "      <td>0.218392</td>\n",
       "      <td>0.0</td>\n",
       "      <td>0.0</td>\n",
       "      <td>0.223429</td>\n",
       "      <td>0.488462</td>\n",
       "      <td>0.333935</td>\n",
       "      <td>0.0</td>\n",
       "      <td>0.776</td>\n",
       "      <td>0.930455</td>\n",
       "      <td>0.946394</td>\n",
       "      <td>0.906582</td>\n",
       "      <td>0.018059</td>\n",
       "    </tr>\n",
       "    <tr>\n",
       "      <th>1</th>\n",
       "      <td>0.011545</td>\n",
       "      <td>0.8</td>\n",
       "      <td>0.956589</td>\n",
       "      <td>0.218348</td>\n",
       "      <td>0.0</td>\n",
       "      <td>0.0</td>\n",
       "      <td>0.187891</td>\n",
       "      <td>0.488462</td>\n",
       "      <td>0.333935</td>\n",
       "      <td>0.0</td>\n",
       "      <td>0.776</td>\n",
       "      <td>0.930455</td>\n",
       "      <td>0.946394</td>\n",
       "      <td>0.906582</td>\n",
       "      <td>0.018059</td>\n",
       "    </tr>\n",
       "    <tr>\n",
       "      <th>2</th>\n",
       "      <td>0.011553</td>\n",
       "      <td>0.8</td>\n",
       "      <td>0.956589</td>\n",
       "      <td>0.218348</td>\n",
       "      <td>0.0</td>\n",
       "      <td>0.0</td>\n",
       "      <td>0.188055</td>\n",
       "      <td>0.488462</td>\n",
       "      <td>0.333935</td>\n",
       "      <td>0.0</td>\n",
       "      <td>0.776</td>\n",
       "      <td>0.930455</td>\n",
       "      <td>0.946394</td>\n",
       "      <td>0.906582</td>\n",
       "      <td>0.018059</td>\n",
       "    </tr>\n",
       "    <tr>\n",
       "      <th>3</th>\n",
       "      <td>0.011561</td>\n",
       "      <td>0.8</td>\n",
       "      <td>0.956589</td>\n",
       "      <td>0.218348</td>\n",
       "      <td>0.0</td>\n",
       "      <td>0.0</td>\n",
       "      <td>0.188055</td>\n",
       "      <td>0.488462</td>\n",
       "      <td>0.333935</td>\n",
       "      <td>0.0</td>\n",
       "      <td>0.776</td>\n",
       "      <td>0.930455</td>\n",
       "      <td>0.946394</td>\n",
       "      <td>0.906582</td>\n",
       "      <td>0.018059</td>\n",
       "    </tr>\n",
       "    <tr>\n",
       "      <th>4</th>\n",
       "      <td>0.011568</td>\n",
       "      <td>0.8</td>\n",
       "      <td>0.956589</td>\n",
       "      <td>0.218348</td>\n",
       "      <td>0.0</td>\n",
       "      <td>0.0</td>\n",
       "      <td>0.188055</td>\n",
       "      <td>0.488462</td>\n",
       "      <td>0.333935</td>\n",
       "      <td>0.0</td>\n",
       "      <td>0.776</td>\n",
       "      <td>0.930455</td>\n",
       "      <td>0.946394</td>\n",
       "      <td>0.906582</td>\n",
       "      <td>0.018059</td>\n",
       "    </tr>\n",
       "  </tbody>\n",
       "</table>\n",
       "</div>"
      ],
      "text/plain": [
       "       time  sats      long       lat  velocity  heading    height  vert-vel  \\\n",
       "0  0.000000   0.6  0.956581  0.218392       0.0      0.0  0.223429  0.488462   \n",
       "1  0.011545   0.8  0.956589  0.218348       0.0      0.0  0.187891  0.488462   \n",
       "2  0.011553   0.8  0.956589  0.218348       0.0      0.0  0.188055  0.488462   \n",
       "3  0.011561   0.8  0.956589  0.218348       0.0      0.0  0.188055  0.488462   \n",
       "4  0.011568   0.8  0.956589  0.218348       0.0      0.0  0.188055  0.488462   \n",
       "\n",
       "   GPS-Longacc  turn-radius  Centre-Line-Deviation   AbsHead   Longacc  \\\n",
       "0     0.333935          0.0                  0.776  0.930455  0.946394   \n",
       "1     0.333935          0.0                  0.776  0.930455  0.946394   \n",
       "2     0.333935          0.0                  0.776  0.930455  0.946394   \n",
       "3     0.333935          0.0                  0.776  0.930455  0.946394   \n",
       "4     0.333935          0.0                  0.776  0.930455  0.946394   \n",
       "\n",
       "     Latacc  rel-height  \n",
       "0  0.906582    0.018059  \n",
       "1  0.906582    0.018059  \n",
       "2  0.906582    0.018059  \n",
       "3  0.906582    0.018059  \n",
       "4  0.906582    0.018059  "
      ]
     },
     "execution_count": 141,
     "metadata": {},
     "output_type": "execute_result"
    }
   ],
   "source": [
    "scaled_df.head()"
   ]
  },
  {
   "cell_type": "code",
   "execution_count": null,
   "metadata": {},
   "outputs": [],
   "source": []
  }
 ],
 "metadata": {
  "kernelspec": {
   "display_name": "Python 3",
   "language": "python",
   "name": "python3"
  },
  "language_info": {
   "codemirror_mode": {
    "name": "ipython",
    "version": 3
   },
   "file_extension": ".py",
   "mimetype": "text/x-python",
   "name": "python",
   "nbconvert_exporter": "python",
   "pygments_lexer": "ipython3",
   "version": "3.6.8"
  }
 },
 "nbformat": 4,
 "nbformat_minor": 2
}
